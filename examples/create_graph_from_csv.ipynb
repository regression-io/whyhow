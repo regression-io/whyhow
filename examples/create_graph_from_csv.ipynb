{
 "cells": [
  {
   "cell_type": "markdown",
   "metadata": {},
   "source": [
    "# Create a knowledge graph with a CSV and a preset schema"
   ]
  },
  {
   "cell_type": "code",
   "execution_count": null,
   "metadata": {},
   "outputs": [],
   "source": [
    "# Import the required libraries\n",
    "\n",
    "import os\n",
    "import json\n",
    "\n",
    "from dotenv import load_dotenv\n",
    "\n",
    "load_dotenv()"
   ]
  },
  {
   "cell_type": "code",
   "execution_count": null,
   "metadata": {},
   "outputs": [],
   "source": [
    "# Import whyhow\n",
    "from whyhow import WhyHow"
   ]
  },
  {
   "cell_type": "code",
   "execution_count": null,
   "metadata": {},
   "outputs": [],
   "source": [
    "# Initialize the whyhow client\n",
    "client = WhyHow(\n",
    "    api_key = os.environ.get(\"WHYHOW_API_KEY\"),\n",
    "    openai_api_key=os.getenv(\"OPENAI_API_KEY\"),\n",
    "    pinecone_api_key=os.getenv(\"PINECONE_API_KEY\"),\n",
    "    neo4j_url=os.getenv(\"NEO4J_URI\"),\n",
    "    neo4j_user=os.getenv(\"NEO4J_USERNAME\"),\n",
    "    neo4j_password=os.getenv(\"NEO4J_PASSWORD\"),\n",
    ")"
   ]
  },
  {
   "cell_type": "code",
   "execution_count": null,
   "metadata": {},
   "outputs": [],
   "source": [
    "namespace = \"whyhow_csv\"\n",
    "documents = [\"../examples/assets/specialists.csv\"]\n",
    "schema_file = \"../examples/assets/specialists.json\""
   ]
  },
  {
   "cell_type": "markdown",
   "metadata": {},
   "source": [
    "### Generate a schema\n",
    "With CSVs, you can automatically generate a schema for your document. The schema will automatically include all column names. You can modify the output to make the schema your own "
   ]
  },
  {
   "cell_type": "code",
   "execution_count": null,
   "metadata": {},
   "outputs": [],
   "source": [
    "# Note, you can only generate a schema from a csv file and only one csv file at a time\n",
    "\n",
    "schema = client.graph.generate_schema(documents=documents)\n",
    "print(schema)"
   ]
  },
  {
   "cell_type": "markdown",
   "metadata": {},
   "source": [
    "### Add documents to namespace\n",
    "Upload one CSV file to the namespace. In this version, you can only upload one CSV file to a namespace so as not to confuse the schema."
   ]
  },
  {
   "cell_type": "code",
   "execution_count": null,
   "metadata": {},
   "outputs": [],
   "source": [
    "# Add csv\n",
    "documents_response = client.graph.add_documents(\n",
    "    namespace=namespace, documents=documents)\n"
   ]
  },
  {
   "cell_type": "markdown",
   "metadata": {},
   "source": [
    "### Create graph from CSV\n",
    "Use the `create_graph_from_csv` function to create a graph from the uploaded CSV file. The function will automatically use the schema provided to generate the graph"
   ]
  },
  {
   "cell_type": "code",
   "execution_count": null,
   "metadata": {},
   "outputs": [],
   "source": [
    "csv_graph = client.graph.create_graph_from_csv(\n",
    "    namespace=namespace, schema_file=schema_file\n",
    ")\n",
    "\n",
    "print(csv_graph)"
   ]
  },
  {
   "cell_type": "markdown",
   "metadata": {},
   "source": [
    "### Query the graph"
   ]
  },
  {
   "cell_type": "code",
   "execution_count": null,
   "metadata": {},
   "outputs": [],
   "source": [
    "# Query the graph using a natural language query\n",
    "query = \"Who speaks English and lives in Houston?\"\n",
    "\n",
    "query_response = client.graph.query_graph(\n",
    "    namespace=namespace, query=query, include_triples=True)\n",
    "\n",
    "print(query_response)"
   ]
  },
  {
   "cell_type": "markdown",
   "metadata": {},
   "source": [
    "### Query the graph with specific entities and relations"
   ]
  },
  {
   "cell_type": "code",
   "execution_count": null,
   "metadata": {},
   "outputs": [],
   "source": [
    "# Query the graph using specific entities and relations\n",
    "query = \"Who speaks English and live in Houston?\"\n",
    "entities = [\"English\",\"Houston\"]\n",
    "relations = [\"SPEAKS\", \"LIVE_IN\"]\n",
    "\n",
    "specific_query_response = client.graph.query_graph_specific(\n",
    "    namespace=namespace, \n",
    "    query=query, \n",
    "    entities=entities, \n",
    "    relations=relations,\n",
    "    include_triples=False,\n",
    "    include_chunks=False,\n",
    ")\n",
    "\n",
    "print(specific_query_response)"
   ]
  }
 ],
 "metadata": {
  "kernelspec": {
   "display_name": "venv",
   "language": "python",
   "name": "python3"
  },
  "language_info": {
   "codemirror_mode": {
    "name": "ipython",
    "version": 3
   },
   "file_extension": ".py",
   "mimetype": "text/x-python",
   "name": "python",
   "nbconvert_exporter": "python",
   "pygments_lexer": "ipython3",
   "version": "3.11.5"
  }
 },
 "nbformat": 4,
 "nbformat_minor": 2
}
