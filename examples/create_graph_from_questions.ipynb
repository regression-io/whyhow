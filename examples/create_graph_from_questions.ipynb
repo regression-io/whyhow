{
 "cells": [
  {
   "cell_type": "markdown",
   "metadata": {},
   "source": [
    "# Create a knowledge graph with questions"
   ]
  },
  {
   "cell_type": "code",
   "execution_count": 1,
   "metadata": {},
   "outputs": [
    {
     "data": {
      "text/plain": [
       "True"
      ]
     },
     "execution_count": 1,
     "metadata": {},
     "output_type": "execute_result"
    }
   ],
   "source": [
    "import os\n",
    "\n",
    "from dotenv import load_dotenv\n",
    "\n",
    "load_dotenv()"
   ]
  },
  {
   "cell_type": "code",
   "execution_count": 2,
   "metadata": {},
   "outputs": [],
   "source": [
    "from whyhow import WhyHow"
   ]
  },
  {
   "cell_type": "code",
   "execution_count": 3,
   "metadata": {},
   "outputs": [],
   "source": [
    "client = WhyHow(\n",
    "    api_key = os.environ.get(\"WHYHOW_API_KEY\"),\n",
    "    openai_api_key=os.getenv(\"OPENAI_API_KEY\"),\n",
    "    pinecone_api_key=os.getenv(\"PINECONE_API_KEY\"),\n",
    "    neo4j_url=os.getenv(\"NEO4J_URI\"),\n",
    "    neo4j_user=os.getenv(\"NEO4J_USERNAME\"),\n",
    "    neo4j_password=os.getenv(\"NEO4J_PASSWORD\"),\n",
    ")"
   ]
  },
  {
   "cell_type": "code",
   "execution_count": 4,
   "metadata": {},
   "outputs": [],
   "source": [
    "namespace = \"ynab_schema\"\n",
    "documents = [\"../data/YNAB_money_guide.pdf\"]\n",
    "questions = [\"What are the best ways to save money?\"]"
   ]
  },
  {
   "cell_type": "markdown",
   "metadata": {},
   "source": [
    "### Add documents to database"
   ]
  },
  {
   "cell_type": "code",
   "execution_count": 5,
   "metadata": {},
   "outputs": [
    {
     "name": "stdout",
     "output_type": "stream",
     "text": [
      "Your documents are being added in the background.\n"
     ]
    }
   ],
   "source": [
    "# Add documents\n",
    "documents_response = client.graph.add_documents(namespace, documents)\n",
    "print(documents_response)"
   ]
  },
  {
   "cell_type": "markdown",
   "metadata": {},
   "source": [
    "### Create the graph"
   ]
  },
  {
   "cell_type": "code",
   "execution_count": 7,
   "metadata": {},
   "outputs": [
    {
     "name": "stdout",
     "output_type": "stream",
     "text": [
      "Your graph creation has started.\n"
     ]
    }
   ],
   "source": [
    "# Create a graph\n",
    "extracted_graph = client.graph.create_graph(\n",
    "    namespace = namespace, \n",
    "    questions = questions\n",
    ")\n",
    "\n",
    "print(extracted_graph)"
   ]
  },
  {
   "cell_type": "markdown",
   "metadata": {},
   "source": [
    "### Query the graph"
   ]
  },
  {
   "cell_type": "code",
   "execution_count": 9,
   "metadata": {},
   "outputs": [
    {
     "name": "stdout",
     "output_type": "stream",
     "text": [
      "answer='Some ways to save money include creating a budget, cutting unnecessary expenses, and setting financial goals.'\n"
     ]
    }
   ],
   "source": [
    "# Query the graph\n",
    "query = \"What are the best ways to save money?\"\n",
    "query_response = client.graph.query_graph(\n",
    "    namespace = namespace, \n",
    "    query = query\n",
    ")\n",
    "\n",
    "print(query_response)"
   ]
  }
 ],
 "metadata": {
  "kernelspec": {
   "display_name": "venv",
   "language": "python",
   "name": "python3"
  },
  "language_info": {
   "codemirror_mode": {
    "name": "ipython",
    "version": 3
   },
   "file_extension": ".py",
   "mimetype": "text/x-python",
   "name": "python",
   "nbconvert_exporter": "python",
   "pygments_lexer": "ipython3",
   "version": "3.10.13"
  }
 },
 "nbformat": 4,
 "nbformat_minor": 2
}
